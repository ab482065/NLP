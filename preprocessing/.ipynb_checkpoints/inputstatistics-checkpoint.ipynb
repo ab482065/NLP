{
 "cells": [
  {
   "cell_type": "markdown",
   "id": "5e46ba26",
   "metadata": {},
   "source": [
    "# Input Statistical Analysis for all datasets"
   ]
  },
  {
   "cell_type": "code",
   "execution_count": 3,
   "id": "22c462db",
   "metadata": {},
   "outputs": [],
   "source": [
    "import numpy as np\n",
    "import pandas as pd\n",
    "import spacy\n",
    "import emoji\n",
    "from collections import Counter"
   ]
  },
  {
   "cell_type": "code",
   "execution_count": 4,
   "id": "a5214cd9",
   "metadata": {},
   "outputs": [],
   "source": [
    "DATA_DIR = '../data'"
   ]
  },
  {
   "cell_type": "markdown",
   "id": "1c5cf3e9",
   "metadata": {},
   "source": [
    "### Utility Functions"
   ]
  },
  {
   "cell_type": "code",
   "execution_count": 26,
   "id": "6610e988",
   "metadata": {},
   "outputs": [],
   "source": [
    "def remove_emoji(text):\n",
    "    return emoji.get_emoji_regexp().sub(u'', text)\n",
    "\n",
    "def slice_dataframe_and_compute_word_frequency(df, slice_cols, slice_vals, text_col, spacy_lang_pkg):\n",
    "    sliced_df = df.copy()\n",
    "    for i in range(len(slice_cols)):\n",
    "        sliced_df = sliced_df[sliced_df[slice_cols[i]] == slice_vals[i]]\n",
    "    print(f'Found a total of {len(sliced_df)} examples')\n",
    "    nlp = spacy.load(spacy_lang_pkg)\n",
    "    text = ' '.join(sliced_df[text_col])\n",
    "    text = emoji.get_emoji_regexp().sub(r'', text)\n",
    "    doc = nlp(text)\n",
    "    words = [token.text for token in doc if not token.is_stop and not token.is_punct and len(token) > 1]\n",
    "    freqs = Counter(words)\n",
    "    return freqs"
   ]
  },
  {
   "cell_type": "markdown",
   "id": "65cf033b",
   "metadata": {},
   "source": [
    "### Spanish (Basile et al.)"
   ]
  },
  {
   "cell_type": "code",
   "execution_count": 74,
   "id": "f0fc855a",
   "metadata": {},
   "outputs": [],
   "source": [
    "df = pd.read_csv(f'{DATA_DIR}/spanish-basile/hateval2019_es_train.csv')"
   ]
  },
  {
   "cell_type": "code",
   "execution_count": 75,
   "id": "8dfb4736",
   "metadata": {},
   "outputs": [
    {
     "data": {
      "text/html": [
       "<div>\n",
       "<style scoped>\n",
       "    .dataframe tbody tr th:only-of-type {\n",
       "        vertical-align: middle;\n",
       "    }\n",
       "\n",
       "    .dataframe tbody tr th {\n",
       "        vertical-align: top;\n",
       "    }\n",
       "\n",
       "    .dataframe thead th {\n",
       "        text-align: right;\n",
       "    }\n",
       "</style>\n",
       "<table border=\"1\" class=\"dataframe\">\n",
       "  <thead>\n",
       "    <tr style=\"text-align: right;\">\n",
       "      <th></th>\n",
       "      <th>id</th>\n",
       "      <th>text</th>\n",
       "      <th>HS</th>\n",
       "      <th>TR</th>\n",
       "      <th>AG</th>\n",
       "    </tr>\n",
       "  </thead>\n",
       "  <tbody>\n",
       "    <tr>\n",
       "      <th>0</th>\n",
       "      <td>20001</td>\n",
       "      <td>Easyjet quiere duplicar el número de mujeres p...</td>\n",
       "      <td>1</td>\n",
       "      <td>0</td>\n",
       "      <td>0</td>\n",
       "    </tr>\n",
       "    <tr>\n",
       "      <th>1</th>\n",
       "      <td>20002</td>\n",
       "      <td>El gobierno debe crear un control estricto de ...</td>\n",
       "      <td>1</td>\n",
       "      <td>0</td>\n",
       "      <td>0</td>\n",
       "    </tr>\n",
       "    <tr>\n",
       "      <th>2</th>\n",
       "      <td>20003</td>\n",
       "      <td>Yo veo a mujeres destruidas por acoso laboral ...</td>\n",
       "      <td>0</td>\n",
       "      <td>0</td>\n",
       "      <td>0</td>\n",
       "    </tr>\n",
       "    <tr>\n",
       "      <th>3</th>\n",
       "      <td>20004</td>\n",
       "      <td>— Yo soy respetuoso con los demás, sólamente l...</td>\n",
       "      <td>0</td>\n",
       "      <td>0</td>\n",
       "      <td>0</td>\n",
       "    </tr>\n",
       "    <tr>\n",
       "      <th>4</th>\n",
       "      <td>20007</td>\n",
       "      <td>Antonio Caballero y como ser de mal gusto e ig...</td>\n",
       "      <td>0</td>\n",
       "      <td>0</td>\n",
       "      <td>0</td>\n",
       "    </tr>\n",
       "  </tbody>\n",
       "</table>\n",
       "</div>"
      ],
      "text/plain": [
       "      id                                               text  HS  TR  AG\n",
       "0  20001  Easyjet quiere duplicar el número de mujeres p...   1   0   0\n",
       "1  20002  El gobierno debe crear un control estricto de ...   1   0   0\n",
       "2  20003  Yo veo a mujeres destruidas por acoso laboral ...   0   0   0\n",
       "3  20004  — Yo soy respetuoso con los demás, sólamente l...   0   0   0\n",
       "4  20007  Antonio Caballero y como ser de mal gusto e ig...   0   0   0"
      ]
     },
     "execution_count": 75,
     "metadata": {},
     "output_type": "execute_result"
    }
   ],
   "source": [
    "df.head()"
   ]
  },
  {
   "cell_type": "markdown",
   "id": "cb0468b6",
   "metadata": {},
   "source": [
    "#### 1.1 Word Frequecy for Examples that are Hate Speech"
   ]
  },
  {
   "cell_type": "code",
   "execution_count": 80,
   "id": "e3d13a1e",
   "metadata": {},
   "outputs": [
    {
     "name": "stdout",
     "output_type": "stream",
     "text": [
      "Found a total of 1857 examples\n"
     ]
    },
    {
     "data": {
      "text/plain": [
       "[('puta', 418),\n",
       " ('perra', 345),\n",
       " ('zorra', 216),\n",
       " ('Cállate', 122),\n",
       " ('callate', 110),\n",
       " ('inmigrantes', 102),\n",
       " ('mujer', 96),\n",
       " ('Callate', 91),\n",
       " ('mereces', 82),\n",
       " ('cállate', 78)]"
      ]
     },
     "execution_count": 80,
     "metadata": {},
     "output_type": "execute_result"
    }
   ],
   "source": [
    "freqs = slice_dataframe_and_compute_word_frequency(df, ['HS'], [1], 'text', 'es_core_news_sm')\n",
    "freqs.most_common()[:10]"
   ]
  },
  {
   "cell_type": "markdown",
   "id": "ede0220d",
   "metadata": {},
   "source": [
    "#### 1.2 Word Frequecy for Examples that are Hate Speech and Aggressive"
   ]
  },
  {
   "cell_type": "code",
   "execution_count": 81,
   "id": "ee99b3be",
   "metadata": {},
   "outputs": [
    {
     "name": "stdout",
     "output_type": "stream",
     "text": [
      "Found a total of 1502 examples\n"
     ]
    },
    {
     "data": {
      "text/plain": [
       "[('puta', 398),\n",
       " ('perra', 322),\n",
       " ('zorra', 207),\n",
       " ('Cállate', 122),\n",
       " ('callate', 109),\n",
       " ('Callate', 90),\n",
       " ('mereces', 80),\n",
       " ('cállate', 78),\n",
       " ('mierda', 74),\n",
       " ('PUTA', 67)]"
      ]
     },
     "execution_count": 81,
     "metadata": {},
     "output_type": "execute_result"
    }
   ],
   "source": [
    "freqs = slice_dataframe_and_compute_word_frequency(df, ['HS', 'AG'], [1, 1], 'text', 'es_core_news_sm')\n",
    "freqs.most_common()[:10]"
   ]
  },
  {
   "cell_type": "markdown",
   "id": "e6586a29",
   "metadata": {},
   "source": [
    "#### 1.3 Word Frequecy for Examples that are Hate Speech but not Aggressive"
   ]
  },
  {
   "cell_type": "code",
   "execution_count": 82,
   "id": "539b5519",
   "metadata": {},
   "outputs": [
    {
     "name": "stdout",
     "output_type": "stream",
     "text": [
      "Found a total of 355 examples\n"
     ]
    },
    {
     "data": {
      "text/plain": [
       "[('mujer', 54),\n",
       " ('inmigrantes', 36),\n",
       " ('mujeres', 32),\n",
       " ('subsaharianos', 23),\n",
       " ('perra', 23),\n",
       " ('puta', 20),\n",
       " ('España', 17),\n",
       " ('país', 17),\n",
       " ('papeles', 16),\n",
       " ('inmigrante', 15)]"
      ]
     },
     "execution_count": 82,
     "metadata": {},
     "output_type": "execute_result"
    }
   ],
   "source": [
    "freqs = slice_dataframe_and_compute_word_frequency(df, ['HS', 'AG'], [1, 0], 'text', 'es_core_news_sm')\n",
    "freqs.most_common()[:10]"
   ]
  },
  {
   "cell_type": "markdown",
   "id": "530a1140",
   "metadata": {},
   "source": [
    "#### 2.  Word Frequecy for Examples that are not Hate Speech"
   ]
  },
  {
   "cell_type": "code",
   "execution_count": 83,
   "id": "4fcd9222",
   "metadata": {},
   "outputs": [
    {
     "name": "stdout",
     "output_type": "stream",
     "text": [
      "Found a total of 2643 examples\n"
     ]
    },
    {
     "data": {
      "text/plain": [
       "[('puta', 784),\n",
       " ('hijo', 237),\n",
       " ('acoso', 198),\n",
       " ('madre', 149),\n",
       " ('perra', 142),\n",
       " ('polla', 141),\n",
       " ('PUTA', 139),\n",
       " ('mierda', 117),\n",
       " ('mereces', 112),\n",
       " ('violación', 110)]"
      ]
     },
     "execution_count": 83,
     "metadata": {},
     "output_type": "execute_result"
    }
   ],
   "source": [
    "freqs = slice_dataframe_and_compute_word_frequency(df, ['HS'], [0], 'text', 'es_core_news_sm')\n",
    "freqs.most_common()[:10]"
   ]
  },
  {
   "cell_type": "markdown",
   "id": "30f0ff63",
   "metadata": {},
   "source": [
    "### Spanish (Pereira et al.)"
   ]
  },
  {
   "cell_type": "code",
   "execution_count": 5,
   "id": "adc8835b",
   "metadata": {},
   "outputs": [],
   "source": [
    "# Necessary wrangling to fit it into a DataFrame\n",
    "data = []\n",
    "with open(f'{DATA_DIR}/spanish-pereira/labeled_corpus_6K.txt', 'r') as f:\n",
    "    for line in f.readlines():\n",
    "        curr = line.split(\";||;\")\n",
    "        data.append(curr[:-1] + [int(curr[-1][0])])"
   ]
  },
  {
   "cell_type": "code",
   "execution_count": 6,
   "id": "3f0665c3",
   "metadata": {},
   "outputs": [],
   "source": [
    "df = pd.DataFrame(data=np.array(data), columns=['id', 'text', 'HS'])"
   ]
  },
  {
   "cell_type": "code",
   "execution_count": 13,
   "id": "6d398dc9",
   "metadata": {},
   "outputs": [],
   "source": [
    "df['HS'] = df.HS.astype(int)"
   ]
  },
  {
   "cell_type": "markdown",
   "id": "0f54bb2c",
   "metadata": {},
   "source": [
    "#### 1. Word Frequecy for Examples that are Hate Speech"
   ]
  },
  {
   "cell_type": "code",
   "execution_count": 17,
   "id": "dae2d123",
   "metadata": {},
   "outputs": [
    {
     "name": "stdout",
     "output_type": "stream",
     "text": [
      "                      id                                               text  \\\n",
      "0  id=828025263321657348  Ismael es egocentrico porque se vuelve loca si...   \n",
      "1  id=828025128797741057  ..ya tardaba en salir quien pronunciase nombre...   \n",
      "2  id=828025087815274496  (Esto no es un discurso político y razonado, o...   \n",
      "3  id=828025006626058241  Muy despreciados,siiii,pero todos vestidos de ...   \n",
      "4  id=828024709761658880  marica explicame porque a veces no te entiendo...   \n",
      "\n",
      "   HS  \n",
      "0   0  \n",
      "1   0  \n",
      "2   0  \n",
      "3   1  \n",
      "4   1  \n",
      "Found a total of 1567 examples\n"
     ]
    },
    {
     "data": {
      "text/plain": [
       "[('subnormal', 350),\n",
       " ('mierda', 144),\n",
       " ('puto', 97),\n",
       " ('puta', 91),\n",
       " ('fascista', 85),\n",
       " ('fachas', 82),\n",
       " ('facha', 66),\n",
       " ('fascistas', 61),\n",
       " ('nazi', 44),\n",
       " ('retrasado', 42)]"
      ]
     },
     "execution_count": 17,
     "metadata": {},
     "output_type": "execute_result"
    }
   ],
   "source": [
    "freqs = slice_dataframe_and_compute_word_frequency(df, ['HS'], [1], 'text', 'es_core_news_sm')\n",
    "freqs.most_common()[:10]"
   ]
  },
  {
   "cell_type": "markdown",
   "id": "7e069eb8",
   "metadata": {},
   "source": [
    "#### 2. Word Frequecy for Examples that are not Hate Speech"
   ]
  },
  {
   "cell_type": "code",
   "execution_count": 18,
   "id": "c7dd8f93",
   "metadata": {},
   "outputs": [
    {
     "name": "stdout",
     "output_type": "stream",
     "text": [
      "                      id                                               text  \\\n",
      "0  id=828025263321657348  Ismael es egocentrico porque se vuelve loca si...   \n",
      "1  id=828025128797741057  ..ya tardaba en salir quien pronunciase nombre...   \n",
      "2  id=828025087815274496  (Esto no es un discurso político y razonado, o...   \n",
      "3  id=828025006626058241  Muy despreciados,siiii,pero todos vestidos de ...   \n",
      "4  id=828024709761658880  marica explicame porque a veces no te entiendo...   \n",
      "\n",
      "   HS  \n",
      "0   0  \n",
      "1   0  \n",
      "2   0  \n",
      "3   1  \n",
      "4   1  \n",
      "Found a total of 4433 examples\n"
     ]
    },
    {
     "data": {
      "text/plain": [
       "[('independentista', 501),\n",
       " ('subnormal', 306),\n",
       " ('fascista', 200),\n",
       " ('facha', 196),\n",
       " ('fascistas', 157),\n",
       " ('negro', 145),\n",
       " ('fachas', 135),\n",
       " ('mayoría', 124),\n",
       " ('género', 121),\n",
       " ('gente', 118)]"
      ]
     },
     "execution_count": 18,
     "metadata": {},
     "output_type": "execute_result"
    }
   ],
   "source": [
    "freqs = slice_dataframe_and_compute_word_frequency(df, ['HS'], [0], 'text', 'es_core_news_sm')\n",
    "freqs.most_common()[:10]"
   ]
  },
  {
   "cell_type": "markdown",
   "id": "4916546b",
   "metadata": {},
   "source": [
    "### French (Ousidhoum et al.)"
   ]
  },
  {
   "cell_type": "code",
   "execution_count": 20,
   "id": "2af9874c",
   "metadata": {},
   "outputs": [],
   "source": [
    "df = pd.read_csv(f'{DATA_DIR}/french-ousidhoum/fr_dataset.csv')"
   ]
  },
  {
   "cell_type": "code",
   "execution_count": 21,
   "id": "f6befa24",
   "metadata": {},
   "outputs": [
    {
     "data": {
      "text/html": [
       "<div>\n",
       "<style scoped>\n",
       "    .dataframe tbody tr th:only-of-type {\n",
       "        vertical-align: middle;\n",
       "    }\n",
       "\n",
       "    .dataframe tbody tr th {\n",
       "        vertical-align: top;\n",
       "    }\n",
       "\n",
       "    .dataframe thead th {\n",
       "        text-align: right;\n",
       "    }\n",
       "</style>\n",
       "<table border=\"1\" class=\"dataframe\">\n",
       "  <thead>\n",
       "    <tr style=\"text-align: right;\">\n",
       "      <th></th>\n",
       "      <th>HITId</th>\n",
       "      <th>tweet</th>\n",
       "      <th>sentiment</th>\n",
       "      <th>directness</th>\n",
       "      <th>annotator_sentiment</th>\n",
       "      <th>target</th>\n",
       "      <th>group</th>\n",
       "    </tr>\n",
       "  </thead>\n",
       "  <tbody>\n",
       "    <tr>\n",
       "      <th>0</th>\n",
       "      <td>1</td>\n",
       "      <td>rt @user personnage ainsi q tte la clique gauc...</td>\n",
       "      <td>abusive</td>\n",
       "      <td>direct</td>\n",
       "      <td>shock</td>\n",
       "      <td>origin</td>\n",
       "      <td>other</td>\n",
       "    </tr>\n",
       "    <tr>\n",
       "      <th>1</th>\n",
       "      <td>2</td>\n",
       "      <td>@user @user @user bah oui t'as raison l'autre ...</td>\n",
       "      <td>offensive</td>\n",
       "      <td>indirect</td>\n",
       "      <td>shock</td>\n",
       "      <td>other</td>\n",
       "      <td>individual</td>\n",
       "    </tr>\n",
       "    <tr>\n",
       "      <th>2</th>\n",
       "      <td>3</td>\n",
       "      <td>moi j'ai personne à qui m'adresser pour réclam...</td>\n",
       "      <td>hateful</td>\n",
       "      <td>direct</td>\n",
       "      <td>anger_confusion_sadness_fear_disgust</td>\n",
       "      <td>other</td>\n",
       "      <td>women</td>\n",
       "    </tr>\n",
       "    <tr>\n",
       "      <th>3</th>\n",
       "      <td>4</td>\n",
       "      <td>@user @user c...est vrai que les anchois sont ...</td>\n",
       "      <td>normal</td>\n",
       "      <td>indirect</td>\n",
       "      <td>indifference</td>\n",
       "      <td>other</td>\n",
       "      <td>other</td>\n",
       "    </tr>\n",
       "    <tr>\n",
       "      <th>4</th>\n",
       "      <td>5</td>\n",
       "      <td>eh les renois faut se réveiller la @url</td>\n",
       "      <td>normal</td>\n",
       "      <td>direct</td>\n",
       "      <td>sadness</td>\n",
       "      <td>origin</td>\n",
       "      <td>african_descent</td>\n",
       "    </tr>\n",
       "  </tbody>\n",
       "</table>\n",
       "</div>"
      ],
      "text/plain": [
       "   HITId                                              tweet  sentiment  \\\n",
       "0      1  rt @user personnage ainsi q tte la clique gauc...    abusive   \n",
       "1      2  @user @user @user bah oui t'as raison l'autre ...  offensive   \n",
       "2      3  moi j'ai personne à qui m'adresser pour réclam...    hateful   \n",
       "3      4  @user @user c...est vrai que les anchois sont ...     normal   \n",
       "4      5            eh les renois faut se réveiller la @url     normal   \n",
       "\n",
       "  directness                   annotator_sentiment  target            group  \n",
       "0     direct                                 shock  origin            other  \n",
       "1   indirect                                 shock   other       individual  \n",
       "2     direct  anger_confusion_sadness_fear_disgust   other            women  \n",
       "3   indirect                          indifference   other            other  \n",
       "4     direct                               sadness  origin  african_descent  "
      ]
     },
     "execution_count": 21,
     "metadata": {},
     "output_type": "execute_result"
    }
   ],
   "source": [
    "df.head()"
   ]
  },
  {
   "cell_type": "code",
   "execution_count": 27,
   "id": "a014d7f5",
   "metadata": {},
   "outputs": [
    {
     "name": "stdout",
     "output_type": "stream",
     "text": [
      "Found a total of 821 examples\n",
      "@user @user c...est vrai que les anchois sont aller sur la lune et invente de million de technologie ! eh les renois faut se réveiller la @url @user sjw et féministe twitter un sale combo @user @user tu sais aussi pourquoi est au dessus ? parce que si veut demain bah ya plus d'ani... @url @user dekoi tu parle jte dis ta ps honte de dire half black lieu de half pakpak attardé @user ohhh la violence je meuuurs @user @user l'empire mongol @user @user @user et vous vous êtes contres la pma pour tout le monde et contre l’avortement. el… @url @user pour ou contre l'avortement ? @user @user @user d'autant plus bizarre que flavius josèphe est resté juif jusqu'au bout des ongles. quand je sors de chez le coiffeur j’suis vraiment le plus beau de tous les rebeus @user @user oui je ne comprends pas pourquoi ceux qui veulent accueillir les migrants n'en prennent pas… @url @user @user j'essaie de bien comprendre maintenant je sais que quand dit qu'on est antisioniste il… @url doudoune et ugg vraiment les renois abusent #jaimelestylehivermaispaslefroid #jsuisunevraigwada @user décidément n'importe quel attardé peut de nos jours détenir la carte professionnelle. revoyez le con… @url @user @user @user mr simon vous ne pouvez justifier voir atténuer la violence des propos de mr zemmou… @url je suis végétarien et voici ce que rencontre avec un éleveur mongol m'a fait réaliser sur l'écologie @url dc maintenant dire que @user ou le @user sont des lobby juif et sioniste sachant qu’il se revendique tel que… @url ce n’est pas tous les renois qui suivent son raisonnement ne l’insulte pas tu perds des hassanets pour rien @url @user @user @user les arabes empruntent le zéro aux indiens au ix eme siècle !!! qui de deter aller au chinois ds la semaine la j...ai trop envie d...un noich euthanasie avortement peine de mort #pma #gpa la société contre la vie bat son plein et le diable vous embra… @url c'est tres classique qu'apres une periode gauchiste un redressement s'effectue d'autant plus violent que la period @url @user c’est de la violence dont vous êtes le produit? @user @user @user @user @user juste un gauchiste toujours à donner des leçons de morale @user @user vous comprenez tout de travers. il n'appelle pas les africains à franciser leurs noms… @url bien des migrants vivaient aussi dans l'illégalité aux États-unis @url @user @user mairie socialope islamo-gauchiste traitre à la france pour résumer l'islamisation de la france en pleine expansionle résultat de l'infiltration des musulmans ds ts les strates de la… @url les rebeus il glo à la fac grâce à la barbe les tutos en français sur youtube c’est insupportable les 3/4 des vidéos c’est des mecs ils te parlent comme si t’étais un attardé @user dirait un gros daron antillais sur la derniere @user je ne suis pas un gauchiste comme tu le dis. je ne suis jamais considere de gauche. toi tu es... @url @user @user @user ouais mais si les arabes ont perdu la et pas ailleurs c'est aussi parce que nous… @url @user @user @user @user ? quelle forme de violence ? je pose juste la question de savoir ce q… @url @user je déteste alain soral. c’est un raciste antisémite complotiste manipulateur @user si vous voulez mon avis le patient mike doit canaliser tout son amour sous forme de violence... @user bouahahhaa il se branle sur les cosplay de sneaky cet attardé #harcèlement sociale. piratage informatique. vandalisme auto qué mongol ce germain il court jusqu’au champs Élysée au lieu de rester placé devant les cages @user vive les rebeus @url pensez-vous que les rebeus et renois s’aiment réellement ? @user @user 2/2 de predateurs mangent aussi par gout renseigne toi le chat est l...exemple par... @url #europe #france grèce: les transferts de réfugiés et migrants vers le continent s’accélèrent  @url rt @user la logique d'un gauchiste #npc #npcmeme @url normalement en afrique nos dirigent doivent utiliser 50% de dictature et 50% de démocratie @user la vraie question est: la france veut-elle encore un peu plus de violence !? @user ils sont aussi complotiste anti-vaccin ? @user @user tu plus fait pour la communauté musulmane rohyngia que tous les dirigeants arabes réunis… @url paris: un centre d'hébergements pour réfugiés ouvre dans le 16e @url via @user… @url de châtelet à gare du nord tu croise que des renois/ tysmés en survêt + teinture blonde flm @user @user j’aimerais bien savoir pourquoi « l’islamogauchiste » est votre ennemi principal et… @url regarder ces attardé ptn est pas dans la merde pour 2019... @url @user @user @user @user tu prefere la violence libre à toi. nous préfère qu il fin… @url des #migrants clandestins armés s'affrontent devant la fac d'éco-gestion à #marseille. les expulser est une urgence… @url @user Être de gauche voir gauchiste n'est pas un crime non plus. (charente libre): l'#italie adopte une loi pour expulser plus vite les migrants : le conseil des ministres italie… @url @user peut-on imposer son (4x4 qui pue | caractère pourri | imbécilité | violence | chat | incontinence | a… @url pq j’vois au states les renois il saute à l’eau avec des chaussettes et tout mdrr @user @user @user mon dieu ! ca doit etre formidable d'avoir un cerveau de gauchistes..... @url @user l'endoctrinement gauchiste fonctionne plein pot sur des cliches leur pille leurs richesses le... @url tout les jours negro c'est fridayyyyyyyy @user @user @user l'islam interdit le terrorisme de la manière la plus claire : @user @user grosso modo les ouïghours sont un peuple turc (ou turco-mongol) et musulman. bien s… @url @user quand fait du choc des civilisations la base de la lutte contre le terrorisme revigore l'at… @url @user un témoin de l'empreinte des presque trois cents ans d'existence cumulées de l'empire mongol et de la horde d'or. @user @user ps mais el acquiaissais tout ce qu'el disait el disait à la russe laisser tomber faut ps par… @url en écoutant cette chanson en entier se rend compte des influences arabes grâce aux sonorités utilisées en fond.… @url @user je vois donc être contre l'avortement c'est être contre la liberté de la femme ? cela n'a aucun rapport… @url @user tous ces gens qui refusent de céder au terrorisme intellectuel ça doit en effrayer plus d'un. les renois et leurs flow c'est tellement une douceur pour les yeux :)) macron annonce la création d'un musée-mémorial pour les victimes du terrorisme @url via… @url êtes vous pour ou contre l’avortement ? @user @user les rothschild sont dans la grande finance et rothschild = juif dans l’inconscient collecti… @url rt @user @user @user zohra madame est une islamo gauchiste ils ne rigolent que des blancs asservis et des dhimmis @user l'ua ne sert à rien elle est financé par l'occident qui lui dicte sa conduite la crise des migrants l'ua… @url @user @user si tu considère que c'est la nature je pense que tu es contre l'avortement bien entendu ? @user tu sauras que ca s'appelle la chaine alimentaire apprend ca l'ecole @user comme d'habitude !! pauvre petit bonhomme !!! il n'y pas d'élections en afrique ?? vous se… @url @user @user @user plein d'animaux seront en voie d...extinction donc dit merci qui merci mussoli et aux fermier quand des experts arabes éclairent l'islam du xxème siècle &gt; dirigé par #arabiesaoudite + épuration la mecque nou… @url @user lis surtout les papiers signés par @user @user et philippe leclercq. ne t'attarde p… @url @user @user @user ben exactement @user @user @user et que dis-tu de : qualifier de violence les dégradations ou les sabotage… @url @user @user un lion ne mange pas que de la viande meme si c...est l...essentiel pour lui. donc cal... @url ptdrr qu'est ce qui raconte cet attarde encore ? il parle de mon quartier comme si c'etait l'anarchie j'pleure  @url @user @user ouaip c'est dur comprendre dans le 16eme paris intramuros quand les seuls vac... @url je peux pas m'empecher de penser que c'est la meme mecanique qu'avec le faux compte gauchiste et provocateur @url comment sortir du débat des « pour ou contre » l’avortement pour entrer dans un dialogue d’écoute d’amour et de co… @url c’est qui ozil — un mongol qui m’invente une vie @url @user @user oh mon dieu non pas le bloquage supreme @url @user pourquoi contre les autistes? je trouve ça débile d'en faire une sorte de chose obligatoire mais… @url @user @user donc qd traite quelqu'1 de sale arabe c pas normal mais qud un arabe traite qlq 1 de sale blanc c'est normal ?! vs vs rendez compt que la jrisk de sauter pcq jecrii com une mongol jui deg :(( découvrez solidarité des femmes burundaises au #burundi. l'association se bat contre les #violencessexuelles de… @url @user du coup pour l’attarde c’est celui qui émet un jugement ou celui qui juge sans avoir vu nagui pro charia qui peut pas s'empecher de placer sa touche d'islamo gauchiste pro migrants zappe direct cette em @url @user pour moi l'insignifiance ne mérite pas qu'on s'y attarde!! « moi je suis un africain je vais te pliÉ » @url par contre c'est ca j'aime pas ils l'envoie en inde se faire avorter mais frère avortement ausis c'est haram ta peu… @url @user oh je sens autant démunie que toi. colères cris violence refus de grandir (sur tellement de poin… @url @user @user une insulte appelle cela une insulte. dans sale blanc sale arabe sale noir… @url mon objectif c de mettre les rebeus à la mode au japon. et je réussi plutôt bien lol quand en plus la violence sociale (perte… @url @user @user @user ecoute moi j'ai obtenu le titre très prisé de bobo islamo gauchiste donc bon j'suis pas un gauchiste mais la il 100% raison. c'est inadmissible @user les poissons ont besoin de plus @url @user @user @user @user il des espece qui ce retrouve pas dans la nature et sans... @url @user @user @user @user y’a pas plus détestée que vs dans le mondel islam la religion du terroris… @url @user faut arreter mlp c'est qu'une gauchiste ! @user la violence ne peut pas être la norme. la force nécessaire l'est quand les interventions la requièr… @url france :jeudi prochain à la librairie résistances : « les naufragés. l’odyssée des migrants africains etienne du… @url bref il est jamais trop tard pour tomber amoureux de moi à ce stade j’accepte tout le monde mais surtout les renois… @url @user @user @user la vraie histoire de l'invasion-islamisation des berbères par les arabes ? faut pas rêver... @user @user le bobo citadin pleure parce qu'1 vache va finir en steak dans nos assiettesil s... @url plus les enfants réfugiés sont diplômés plus ils développent : elle fait le point.nregarde ou elle en estns'attarde sur les virgulesnouvre des parenthesesnle trema de naeve se ch @url @user @user un peu trop de violence à mon goût @user @user mdr sa ces les excuses prend le train et viens j’ai le temps m’attarde avec un minus de 16… @url @user @user la france l’europe une bonne partie du monde arabe et du monde tout court considère le h… @url @user j'ai explose de rire c'etait parfait xd si zemmour disait la vérité  le terrorisme se réclame de l'islam il n'aurait pas pu finir sa phrase. onpc se couc… @url femme se fait agresser et insulter de sale arabe. confrontation avec la personne à la gendarmerie. le flic lui d… @url @user l’empire mongol et l’ordre des assassins video gaza: voilà ce que les medias appellent manifestations. et d'après vous pourquoi les arabes envoient-ils d… @url @user dites-moi pas que ça sort pile-poil maintenant parce qu'il pris position contre l'accueil des migrants en europe? @user @user c est le resultat de l ideologie gauchistequi au nom de l'egalite des chances veut g... @url mbz à la tête des emirats arabes unis des moyens. mubadala son impressionnant fonds souverain et une pléthore… @url je suis tellement contente que smythe davis ait sortit la mongol dorjsuren alors que là aussi elle est pas aidée pa… @url @user non à la dictature de la pensée non au terrorisme intellectuel. oui à la liberté d'expression de conscience et d'opinion. @user @user vous allez apprendre faire la difference entre un gauchiste comme lula/melenchon et un f... @url ~ne t'attarde pas sur les dtails au risques de rater ce qui est devant toi~ @user @user @user elle permis en effet la reconnaissance du droit à l'#avortement le droit à l'… @url l'invasion que nous subissons celle des touristes  cet homme est historien gauchiste  @url @user @user ceux là méritent même pas qu'on s'attarde dessus ..j'vais pas faire unanimité là dessus… @url @user ta reponse est ici =i&gt; écrivaine et blogeuse engagée. dans libérées - le combat féministe se gagne… @url @user @user @user Ça change quoi les chiffres hein ? trois mille migrants ou trois millions de migran… @url @user assia vallah j’ai plus rien à perdre je fait déjà terminer depuis mon tweet sur les rebeus @user @user rien à voir avec le terrorisme ou l'islam !! c'est un dingue qui fondu un cable ! pas sûr je suis même persuadée que #zemmour... c'est la pensée dominante des français hors gauchistes bien sûr c… @url le parti danois qui veut expulser les “migrants musulmans qui abusent des aides sociales” se développe rapidement @url @user /o je sais pas. je comprends pas. j'en ai marre. va encore se reprendre toute cette violence dans la gueule. #lassitude @user oui mais là depuis le matin je ne suis pas attardé après le match @user de meklat à badroudine : quand les #inrocks soutiennent l'antisémitisme islamiste gauchiste et bien-pen… @url @user je comprends pourquoi la plupart des gens disaient que j...etais arabe quand je streamais. nce genre d...emissio... @url @user @user j'aime pas les rebeus rt @user l'histoire du quebec vaut la peine qu'on s'y attarde. tellement triste qu'on ne l'enseigne presque plus. texte fort interessa @user peut-être un gauchiste ? @url ptdr il tout à fait raison mais dans les commentaires grave des meufs qui disent les renois mettez vous aussi… @url en israël les migrants africains se sentent victimes de « racisme » - @url @url les migrants ne gagnent/reçoivent pas davantage de l'état que les p… @url @user @user fallait pas rêver que quelqu un attarde vendredi... un.petit effort elle sera operat… @url @user et le racisme des blancs envers les noirs et arabe tellement été gommé france que même individuellem… @url rt @user @user @user cassons la gueule au gauchiste faisons leur comprendre qu'en jouant avec nos vies ils @user @user @user @user si vous êtes cohérent avec vous même cela signifie que vous êtes contre l'avortement . @user par contre jparle couramment chinois et jpeux te dire que ching chong ça veut rien dire @user exactement xd comme tu es un ami précieux je m'attarde beaucoup sur ce genre de détails xd mais ils ont quand même aimé une atmosphère qui garde son identité et la violence du dessin de ryp. :) @user @user l'argument c'est que les noirs et les arabes se revendiquent comme noir et arabes et le pigeon g… @url @user pq y'a autant de rebeus qui tiennent avec l'ol ? l'idée qu'il existe 1 lobby juif un classique de l'extrême droite est désormais déclinée sous l'avatar du lobb… @url @user le pire (déso pr les potes en prison^^) c'était la press' et la violence policière &gt;après&lt;. Ça d… @url plus de terrasse plus de lumière...réfugiés dans le caveau dans un état de désarroi certain nous gardons malgré t… @url @user c'est du jargon gauchiste tellement galvaude que s'en est devenu un running gag. etes-vous d’accord avec bernard kouchner qui dit que « nous devrions prendre plus de migrants » @url @user @user @user @user @user @user c’est ouf comment les rebeus de qua… @url @user @user ah ben cest difficile quand connait que les smartphones le beton et les immeubles @user long comme le regard qui s'attarde sur ton corps @user la théorie du deep state terme que trump ne renie pas reprend bien des canons de l'antisémitisme c… @url @user pareilj’aime pas voir les gens malheureuxmême ceux que je connais pas vraimentje m’attarde toujours u… @url @user dit le gauchiste. quand reçoit des menaces de l extrême gauche et voit les millions de dégâts et les… @url @user vous êtes fatiguant donc dit fermer sa bouche grr le blackos en face lui normal porte tee shirt bande de faux dérch question est simple que se passe t'il dans la tête de certains renois je regarde je comprends pas wesh j'exige d… @url loon-plage : la cycliste inventé son agression par des migrants. elle est simplement tombée de son vélo. @url @user @user l’islamisation de la france est en marche...financée par les caf. c’est probablement la première… @url @user @user @user non je préfère juste que tu arrêtes d'employer ton vocabulaire de gauchiste (c… @url @user @user @user @user c’est juste que d’habitude s’attarde plus sur la couleur de mes fringues @user @user aucun rapport sachant que les rebeus sont rois en la matière les rebeus doux et civilisés jvs love @user je ne suis pas attardé sur ce point. pour résumer coût de la seule partie ferme du projet = 100m€ s… @url @user tant de violence ... @url après que le renois ai eu ce qu’il voulait il l’a raillé dans ça liste dc en fait au ils n'ont tjrs légalisé l'avortement ça reste un sujet tabou. par contre ça fait 4ans qu'on appren… @url les marocains ils debate avec un mongol qui croit que lportugal c en amérique du nord jsp cmt vs pouvez tenir jlaur… @url « 3 milliard d'homme sur terre et tu t'attarde sur quelqu'un d'indeci » j’avoue pas mal celle-là.. @user mais tout à fait ! tu vois à quel point mon coeur est grand même envers les réfugiés d'une peupla… @url c'est mieux que je ne m'attarde plus sur certaines personnes en fait @user y'a aussi plein de pays africains qui ne sont pas en guerre pouvant les accueillir. avant que ce dé… @url @user mediapart islamo - gauchiste ? c est le titre la plenel ou j ai mal compris ? bah y'a qu'à quand même de très belles phrases si s'y attarde un peu @user @url voilà le résultat du rapport sur l'islamisme qui confond islam et terrorisme. nn ctoi qui va menvoyé — bah envoie dm jpeux pas savoir qui c'est mongol @url @user @user @user gné? agrandir l'interface pour s'adapter à un écran beaucoup plus petit ç… @url @user @user @user ah oui ? et ca c...est quoi ? @url @user mais soma gros mongol cinnamon c’est quoi? la france un pr autiste - ou débile - ou camé. j'arrive plus à savoir. @url y'a une meuf dans classe elle se pleins du racisme envers les arabes mais taleur elle traiter un asiatique de... @url @user toujours tu vas trop loin  même en étant gauchiste pro migrants j'aurais baillé en lisant c… cyber-harcèlement: un jeune homme de 25 ans reconnu coupable de viol à distance @url via @user @user @user @user gauche anti religieuse en général ou extreme droite anti islam tout court (pou… @url mdr les renois qui disent rien à 69 honte à vous macron et l’islamisation de la france un plan bien ficelé par l’institut montaigne @url cette œuvre d'un #artiste #français pour les #réfugiés - une immense fresque sur la pelouse de la perle du lac à… @url @user @user @user @user @user bah évidemment que y'a des renois parmi les terror… @url @user vivement qu’on s’attarde aux pratiquants de water-polo et de twirling bâton. ce sont deux passions bie… @url elle parlait sa pote et lui dit c'est un renoi.. ah… @url grèce. À thessalonique les migrants continuent d’arriver ! @url du coup petit tips pour les migrants qui vont se faire se faire expulser bouffer du nutella @url tous les potes de clara ils m'appellent ton pote chinois mdr c ouf g pas l'impression de tant ressembler un noich que ca???? un mélange flou entre qqun empli d’amour et de violence le paradoxe à son paroxysme l’art pas pour sa beauté mai… @url @user personnellement mon regard s'attarde de moins en moins sur ce genre de couverture. je pense que mon… @url @user @user @user Être musulman ne veut pas dire favoriser le terrorisme comme etre catho ne ve… @url @user de la thune pour les migrants...y de la thune... français d’abord ! pour nos aînés priorité nationale ! @user @user @user les bonnes larmes de gauchiste @user wauquiez est un gauchiste par rapport à nous du coup si les asiat et les rebeu physiquement ne m'attirent pas trop je suis aussi raciste des asiat et des rebeu… @url @user je suis origine purement berbèreje retrouve avec un nom et prénom purement arabes! Ça veut tout dire en marre . lignes quotidiennes par akram belkaïd: polémique autour des prénoms arabes rien de nouveau sous le soleil... (iht… @url @user @user @user ah d'accord je ne m'avais pas attardé sur le compte. je crois que moi simp… @url @user joyeux 35ème anniversaire à mon gauchiste préféré ^^! contre l'avortement soutenons le docteur bertrand de rochambeau @url @user @user maniaseries: «4 blocks» explore le monde brutal des clans mafieux arabes berlinois à la…… @url @user @user recu donc sacrifie une espece pour ne pas les tuer et les manger . c'est pour c... @url @user quand je suis parti 4 mois en afrique cette année je suis rentré et chienne était toute heureuse donc t’en fais pas @user je conseille à francis vallat que chaque membre de son association accueille chez eux un migrant. on… @url est 4 se donne rdv à 14h y’en pas un qui est sorti de son lit il est 14h17 les renois @user comm tardif mais des dimanches qui s'affichent ainsi méritent qu'on s'y attarde. très belle photo ! c'est bete de rt trop vite des informations provenant de la conosphere islamo-gauchiste.nnc'est revoltant de se rej @url où sont les rebeus de lyon @user @user alors deja ton ecriture pas francaise comprend rien. ensuite les meufs ca s'epile. e... @url ton style de gars? — encr ? les renois et métisses @url ce qui dégoute le+c'est que l'on nous emmerde avec les migrantsles demandeurs de papiers clandestins(qui vivent… @url @user @user ce lieu est un symbole de la lutte contre le terrorisme pas contre l'islam qui n'a rien… @url @user @user comme si les #migrants qui viennent de pays profondément homophobes allaient devenir gay friendly un jour ! @user @user citation du responsable de l'etude que tu n'as sans doute pas lu : c'est vrai qu'... @url il dit ça en faisant valoir le vocabulaire de la gauche attardé qui nous entoure depuis tant d'années. paris première mise en demeure pour des propos d'Éric zemmour sur les migrants musulmans @url via @user « les petites blanches » ptdr s’ils savaient que dans le lot y’a des giga arabes et renois encore plus fan @url et je m’attarde sur des petits détails jviens de tomber sur un compte twitter c'est insane putain le mec c'est un attarde avec un balais sur la tete avec @url @user @user le terrorisme intellectuel serait ici de dire : « définition décoloniale du racisme est exclus… @url tu trouves comment physiquement les rebeus ? pas forcément les mecs de tess — craquant de fou @url @user @user merci à vous deux je viens d'apprendre que je suis nationaliste antisémite complotiste… @url il est contre l’avortement fin qd g parler de certains trucs il m’a dit que d’accord il préférait avorter que un en… @url quel ramassis d’attardé @url c quoi son style de mec aussi? — elle préfère les renois mais si blond aux yeux bleu oklm faut tu sois drôle auss… @url délit de solidarité pour cédric herrou dans son combat pour l'accueil et la protection des migrants africains dan… @url @user @user d'accord le gauchiste. @user le rapport avec le terrorisme c'est l'argument de la vision biaisée de l'islam dont tu parles. d'ailleurs… @url @user @user 2/2 le deuxieme essage s'attarde sur le fait que la spa accueil aussi des animaux plus atypiques. pas… @url #migrants #islam #islamisation #islamisme #islam #afrique #immigrants #macron #lrem #fra… @user @user @user la bonne pote gauchiste de chirio @user wa fik ben c'est assez simple pour les abrutis qui l'écoute rap=banlieue=immigrés=arabe/noir=islam=terr… @url je comprend pas pourquoi vous prenez les gens contre l'avortement pour des attardés à croire c'est un débat simple… @url lui c le genre de mec qui finit au tribunal pour violence conjugale @url @user @user @user guenolé le gauchiste osé critiquer une des seules réelles féministes honorable e… @url @user @user ils sous entend que les bobo gauchiste dont il parle sont tous des islamo-gauchiste des gens… @url @user @user mais cela n'excuse en rien les insultes ou le harcèlement — proverbe africain @user @user exemple tout bete @user @user il fait quoi au juste ce gouvernement? pourquoi il s'attarde sur des futilités alors qu'il de… @url @user ... le terrorisme est un mode opératoire un procédé technique qui ne porte en soi aucune idéologie. mai… @url pour parler de l'esclavage des arabo-musulman sur les noirs qui toujours exister aucun renois n'en parle hein … @url @user @user ce qui n'as rien voir avec le fait d'etre en haut de l'echelle alimentaire ou no... @url meilleur que thiago messi voila c'est terminenc'est un crack le meilleur attarde du siecle c'est bien lui il est @url @user @user @user @user Ça sent le gauchiste vexé...fin de la discussion! @user cette technique est reservée que aux parents rebeus @user personnellement dans la ville où j’habite j’ai plus de chance de mourir du sel que du terrorisme !… @url lutter contre les violences faites aux femmes en en facilitant l’essor ...… @url encore une gauchiste déconnectée ... @user mon prof utilisé ta photo pour mon cours de violence à l'école ptdr (petite victime) @url @user faux nul zéro la majorité ne sont pas arabes @user jsuis mort enft même si ya qlq cas isolés dans leur tete des que croises des rebeus dans la rue tu te fa… @url @user @user tout à fait d'accord pour summoning! comme ca s'attarde sur le côté sombre du seigne… @url aujourd’hui pour la première fois dans vie m’a traité de sale arabe dans la rue c’est partie en del quand wauqiuez fait presque passer phillipe pour un gauchiste le droit d'être dépité ? #lemissionpolitique @user ptddrr aym t'rappel du renois qui voulait nous vendre des faux. il s'appelait martine le batard @url y’a des renois c’est grave des bounty hein ils vont te sortir des « oui non l’afrique mérite ce qui lui arrive. l… @url libre le film de @user est un hymne à la collaboration avec la colonisation de peuplement africaine et ar… @url constat simple : l’europe est livrée à l’invasion à l’occupation à l’islamisation au grand remplacement. mot d’o… @url ensuite j’vais parler de pnl oula alors eux faut pas que jm’attarde trop sur eux pcq y’a beaucoup à dire. encore un… @url @user nan à mon avis ta pas visité la map et ta pas chassé et tout. tu t'es plutôt attardé sur les missions pri… @url @user @user @user pourquoi semi ? n...est jamais trop aide parait-il. @user @user @user @user @user parle d'un constat. c'est fait . essaie d'analyser… @url plus il s’attarde sur son doctorat moins il publie plus il se dirige vers les marges du système. mais sa product… @url @user je suis pas attardé dans la gare mais dehors ca appelle de partout en effet. c'est peut-être un attardé mental ce type mais ce qu'il dit c'est à 200% vrai @url @user la france est un pays multiculturelle observe la langue française elle intègre des mots arabes utilisés… @url #expulsion de #migrants vers leur pays d’origine : merkel satisfaite d‘elle après sa visite à #alger. qu‘on en juge… @url @user @user un adepte du lieu commun gauchiste @user y'a des renois mais pas tout les renois c'est différent pas tous la même mentalité et puis jvois pas il est ou le pb @user @user envie de pleurer (vraiment)ntu refait soiree nlove @user ouais askip tu aurait sorti sale juif selon les dires de zeuby en 2018 il encore des gens qui manifestent contre le droit à l'avortement en suisse (et partout ailleurs d'ail… @url @user @user je suis végétarienne et n'adhère pas à cette violence fait par le mouvement vegan chacun doit être libre respect svp prcq genre un renoi peut pas aimer les renois et les blanches ?? @url @user @user @user @user @user @user deformation bobo gauchiste... pa... @url @user @user @user @user ah oui exact j...avais pas compris ton premier tweet  @user @user je ne suis absolument pas contre l’avortement mais je suis surtout pour les contrace… @url sous la direction de genghis khan l’immense empire mongol utilisé un système postal avancé à travers l’empire. #uoim2 @user @user @user rien voir avec l'extreme droitefaut arreter la fumette gauchistetout le mond... @url @user @user @user @user @user vous etes pourtant toujours gauchiste malgre vous me... @url c’est juste là tu t’affiche à sucer les rebeus te le dit pas mais moi je te le dis à ta place j’aurais honte — m… @url @user omg j'etais pas pret pour celle la @url @user marsault quand il va revenir j’attendrais un niveau de violence stratosphérique car ce gars un nive… @url j’aime trop la couleur que j’ai faite à mes cheveux j’ai l’impression qu’on s’attarde moins sur gueule ça rattrape le coup rt @user fort interessant que ce soit gauchiste que de faire payer les pollueurs pour la pollution que leurs industries produisent @user ces des enfants bordel ta 6 de qi c incroyable comment t’es attardé la seule différence que j'ai trouvé entre rich kid et famous dex c'est que famous dex est attardé sinon c'est la même merde et grave que mes potes rebeus et blacks se faisaient régulièrement contrôler jusqu’à leurs… @url c'est quoi un bobo gauchiste — un mec qui se relaxe devant quotidien qui écoute du « jul » seulement pour se donne… @url @user @user juste avec la bio du mec peut voir que c'est un gauchiste (in)soumis marianne soubret des œillères! rien qu’à nantes 700 migrants évacués et à loger! pour être considéré militant antiracisme il faut faire seulement deux choses : et ça ne dérange personne que l'on parque les migrants comme du bétail ???? @url répondons légitimement à @user que l’esclavage commis par les arabes date de 860 pas de 1950 et que tout… @url @user @user @user pas le temps ! le gouvernement est déjà assez occupé comme ça avec les migrants islamo-africains ! mdrr après c’est les renois qui parlent que de sexe #lrt @user . quand 16% de la population est musulmane le processus d'#islamisation est irréversible un poin… @url @user j’vous soutient grv franchement force vous parle des rebeus et arabes mais en soit vous etes les… @url @user installé @user stp ! je n'le dirai jamais assez. c'est une appli' contre le cyber-harcèlement. @user les pays arabes n'ont qu'a les accueillir nous n'en veut pas ras le cul @user @user ah y'a de tout dans ce monde. il nous faut des cucks ayant des qi 2 chiffres ma... @url @user une féministe qui te parle d'irl. @user oui c’est vrai &lt;3 @user y’a pas que les arabes qui ont débattu @user @user @user m'a traitée de sale arabe. de sale blanche aussi.alors je sais pas où e… @url @user corrente de mongol quel frère (il écrit mieux rebeu que des rebeus) @url @user j'aurais dis pareil avc les renois t'aurais rep la meme? déjà les renois c’est sûr ils vont dire jesus christ @url added video @user playlist @url  l' opposition ne dispose d'aucun programme et s'attarde sur des faux @user oui cela s'appelle la colonisation et l'islamisation d'une nation avec l'aval de nos gouvernements soumis à l'ue. il fait pas attardé lui en ssg je suis gauchiste jusque dans la masturbation #pmasanspère : au nom du désir tout puissant des adultes sur les enfants permet cette violence sur leur identité profonde. @user calais les migrants viols et agresse même les habitants qui leur vienne en aide à cause de ça les habitants quitte calais typique des renois mdrr quand ça perd la battle ça crie au scandale ! bouge de là @url @user j’suis le renois le plus gentil au monde.. @user @user @user ouuuuin bb @user @user tu le presentes comme une moyenne mais dans un reseau trophique la place peut va... @url donc si les États africains… @url .@user va débloquer 80 millions de dollars pour les #réfugiés et les communautés d’accueil au #niger qu'on mette les chose au clair. non je ne suis pas con attardé débile ou je ne sais quoi. j'ai un niveau de cultu… @url @user la lecture de ceci interroge grandement pour elle l’alcool est une des complications de la violence fa… @url @user @user @user jte rassure jsuis blanche et aux states jme suis fait victimiser dans l...avion par un... @url @user @user pourquoi des pays très riches comme l'arabie saoudite le qatar les Émirats arabes etc. ne le… @url @user @user @user il serait:anti islamisme (anti radicalisme terrorisme extrémisme) ou anti i… @url @user @user l'islam n'est pas le terrorisme... je veux dire l'extrémisme et il existe dans toutes l… @url @user @user @user oui est d’accord c’est les anti qui parle d’argent sale ou plutôt d’… @url @user vue comment il parle mal c'est sur algérie: «les migrants sont beaucoup plus vulnérables maintenant» pour leïla berrato - @url que tu sois pour ou contre l’avortement c’est le droit de chacun mais ne doit pas mêler ses convictions personne… @url @user ah bon ? si quelqu'un n'est pas de ton avis c'est un attardé ? ouaouh enft j’me ss attardé sur aucun son que gangster le reste j’ai écouté une fois avant la prison le point commun entre les terroristes c’est l’islam. @user @user @user je demande aussi c quoi ton type de mec — les rebeus @url en france demande aux réfugiés de guerreaux exilés du genocide rwandais de « franciser » leurs noms et prénoms… @url @user nan nan abuse pas non plus je suis algÉrien et giga fier de l’Être. mais j’ai une préférence pour les renois. vos renois d’1m95 110kg qui lâchent des tweets fruités dirait makassy @user @user @user cette vue ou le regard s'attarde et dessine des caresses @user j’avoue souffre trop nous étudiants renois. force à toi est ensemble !!! @url l’ua “effarée” par les propos de salvini à propos des migrants africains en europe @url @url déjà d’où tu te permet de venir traiter ? et alors je préfère les renois toi c’est quoi ton soucis ? c’est inter… @url @user j'ai vu ta vidéo et je te conseille vivement d'installer l'appli' @user qui lutte contre le cyber-harcèlement. @user @user je crois que le droit c'est ecris noir sur blanc sur les article de lois @user @user @user @user oui et alors ou est le probleme j'ai cite l'inde pa... @url @user hahaha mais en même temps la cisphobie n'existe pas donc il pourra jamais comprendre vraiment ce que ça fait ? oh oui... n'oublie pas que cette population est surreprésentée dans les prisons le terrorisme les agressions… @url @user @user sachant que 85/90% des musulmans sont sunnites donc ouii il assimile l’islam au terrorisme @user @user @user je suis moi même blanc et toute vie j ai traîné avec des renois même si je… @url @user et deux autres choses : aucune interaction avec les féministes alors que c’est la base du mouvement et le… @url @user @user @user il en va de l’accueil des migrants comme de la cultureles 2 nécessitent… @url @user @user Ça commençait pas trop mal et ça part en couille sur des délires complotiste anti… @url @user @user @user le tout marchand est donc une derive gauchiste? @user @user comme je suis pas à jour sur op je suis pas trop attardé dessus en détail mais ou sinon c'e… @url #assises du gard # l’avocat de la famille de la victime souligne l’extrême violence de l’agression. nonagénaire fr… @url l’inclusion de la diversité ne veut pas dire acquiescer à l’obscurantisme. en refusant de dénoncer l’islam politiqu… @url @user @user vos voulez dire que vous soupçonnez @user d'apologie du terrorisme islamique? et… @url @user @user il serait peut être temps que je m’y attarde alors @user @user @user @user @user comment débattre entre gauchiste sans aucune contradiction @user si t’es féministe tu défends chacun des droits de la femme même celui de rester à la maison s’occuper des… @url pas de sexe pas de violence pas de religion pas de drogue apple va consacrer 1 milliard de dollars dans un rema… @url la légende des darons renois en boîte est bel et bien vraie je suis un attardé mental je viens de réaliser que la toussaint s'appelait comme ça pcq c'est une célébration de tous les saints c'est bon j'ai serrer les renois comme sa vous m'avez saouler @user @user la principale source du terrorisme c’est l’islam. le principal centre de formation c’… @url jsuis vrmt attardé miam @user @user Ça m'emballe pas des masses pas sur que je m'attarde dessus et pourtant je suis un fan de batou @user @user @user j'avais déjà oublié que le gauchiste aime émotionnaliser le débat (triste pas triste bon pas bon) quand la steppe est trop grande c'est le vent qui porte les nouvelles  proverbe mongol daté d'avant twitter.... @user j’capte pas pk s’attarde autant dessus c’est ouf comment c’est vide. remarque valable pour son frère aussi. les quotidiens arabes en arabe soudanais mardi 25 septembre 2018 @url entre les colis pieges fabriques par cesar sayoc l'ultra-droite peut critiquer l'electorat gauchiste democrate ame @url @user j...avais grave besoin d...entendre ca merci mec ! @user @user @user @user en inde bouffe pas de viande car ca fait des g... @url @user beaucoup de migrants viennent également de pays anglophones et autres. il y’a un déséquilibre entre les… @url quand j'étais au collège et que j'étais vraiment vraiment mal à cause du harcèlement que je subissais je confia… @url est-ce qu’une catho intégriste qui milite le dimanche contre le droit à l’avortement peut se dire féministe?? @user @user et les hommes qui meurent du fait de la violence conjugale? elle en parle ? car sur 5 personnes… @url @user @user un bon écologiste bobo gauchiste. il joue au milliardaire avec l'argent provenant de l'escroquerie de nos impôts. @user @user @user j'ai vu flou wouah il vient de m’arriver un truc de fou là je rentrais chez moi quand devant moi deux renois menacent au tase… @url @user si faisait des généralités comme ça sur les renois ça serait appellé de la discrimination et tu le… @url @user je te jure genre je dis « bah nan j’aime tout » elle dit « nan je pense c’est les renois je te vois… @url @user votre inquiétude est légitime. en 40 ans les politicards ont défiguré notre pays. l'idéologie gauchiste… @url @user jamais jsuis pas un gauchiste @user @user il serait capable de dire ça à ces pauvres réfugiés je pense oui cette vidéo traumatisante du rituel de coalition mr-nva été censurée de facebook pour « violence extrême » survi… @url l'italie adopte une loi pour expulser plus rapidement les migrants @url @user @user @user @user tellement facile et éculé ce terme de gauchiste asséné dès que… @url @user l'avortement n'est pas forcément traumatisant non la grossesse forcée par contre... encore une fois… @url va recommencer @user la traite arabe s'étale sur une période allant du vii ème siècle jusqu'en 1920. e… @url hier je parlais avec un intello-gauchiste qui m'a dit:nnfaut bien reconnaitre qu'une seule religion aujourd'hui p @url flm des meufs attardé qui ce tartine tt l’es matin @user @user @user @user lol la bonne vielle tactique gauchiste! répondre par une questi… @url @user le sucré salé c’est degueu mais ce que la vie fait le renois 1 ce sépara de ça chérie .. sad history @user par exemple tu veux aider la cause des rebeus mais tu tacles ton frère rebeu qui un avis différent… @url meurtre d’une adolescente: «les médias canadiens préfèrent protéger les réfugiés»: @url via @user @user @user non non il n'y pas d'islamisation .... c'est un fantasme de l'extrême droite .... @user mdrr bah non ah je sais pas trop je t'avoue que je m'attarde pas trop sur leur profil haha @user @user @user @user oui je suis maman. et pas de violences chez moi. en aucun cas. la violenc… @url et bien la clause de conscience des médecins notamment contre l’avortement c’est le droit de veto de louis xvi. i… @url rt @user 'ching chong'' ca veut dire bonjour en chinois nan ?? @url @user À toulouse oui dans la rue le commissariat et plus que d'entendre sale noir ou arabe... @user @user @user @user @user gros j'en ai marre que les renois cherche du regard a… @url d’où sont originaires la plupart des #réfugiés ? les deux tiers des réfugiés proviennent de cinq pays seulement :… @url @user @user @user c...est vous qui parlez de vue gauchiste avilissante. pas moi. vous associez cette... @url @user je l’écoute ce soir le sien j’me suis attardé sur celui de takeoff et celui de metro en collab avec 21savage et travis scott voilà qui démontre bien l'hypocrisie de la gauche... pas plus haineux et violent qu'un gauchiste extrémiste! @url @user @user @user machin à lunettes va se faire une fois ramasser par des migrants et il pleurera. fran… @url @user et présente ça aux médecins gynécologues qui sont contre l’avortement avec comme slogan « tu veux p… @url @user @user je reste sceptique sur les solutions très tranchées lorsqu’on ne s’attarde pas complèt… @url @user vous croyez vraiment ou vous répétez n'importe quoi qui se dit sur le net ? ce site est complotiste antisémite et délirant ! franchement j'ai regarder des reportage sur les renois qui vivent en corée ils tiennent pas du tout le même discour… @url @user bobo islamo gauchiste féministe à maniere au moins tu l'avoues tu es une bonne pédale bien pensante quoi ^^ @user e r c il faudra un jour s’interroger sur la violence que c’est pour les familles homoparentales de se voir jeter l’intérê… @url ensemble luttons contre les violences dans nos communautés cette image est insoutenable!après cela comment être encore contre les réfugiés et les mesures prendre dans leur… @url @user oui j'imagine... courage udc99 nil m'a pas directement envoye la photo j'ai eu cette chance #macron menacé d'expulser les migrants mais cela ne se produit pas! pourquoi? parce qu'il est faible et il ne pe… @url prise en charge des réfugiés fuyant la guerre. @url plus de 60 villes ont déjà dit oui pour venir en aide aux réfugiés. et l… @url la banque mondiale va débloquer 80 millions de dollars pour les réfugiés et les communautés d’accueil au #niger.… @url @user @user dit l...attarde en question que dieu te pardonne cher ami que dieu te pardonne tripoli violence rises france wants sanctions militias | reuters @url @user jc pa jc juste que les anciens que jconnais les rebeux c raciste renois alr que ls anciens renois ils sen foutent quand voit le carnage de maduro le gauchiste prefere de melenchon ude4c @url @user c’est comme si tu disais islam =terrorisme @user @user @user @user ils mangent pas de porc parce que quand il les tuaie... @url hier j'ai fini la saison 1 de punisher. je crois que je n'ai jamais vu autant de violence dans une série ou un… @url non ! n'en veut pas de ces migrants économiques ! trop c'est trop . il est plus urgent d'imposer des mesures dr… @url @user @user je te retourne le conseil sur la véracité des infos je ne doute de la violence d'aucu… @url @user question: les vegan sont ils contre l'avortement ? tu préfères aller en soirée avec l'autre con de zoonekynd où aller en cours avec l'autre mongol de mahieux? — alex… @url quand est-ce qu'on met en place des couvre feux de la violence ? #guatemala : les partisans de l’élargissement de l’ #avortement ont dû se résoudre à retirer l’article d’une propos… @url il est possible de faire des mathématiques avec des chiffres arabes tandis qu'il en est pas autant facile avec les… @url mdr cest les renois ça. toute les cérémonie avant le mariage se passe la maison @url @user @user il vient juste de te prouver qu'on est au sommet et t'as confirme gros patapouf @user si tu considères que sale noire / sale juif ce n’est pas raciste non plus alors je ne peux rien faire pour toi nous savons tous que le terrorisme est politique et n rien avoir avec l islam les attaques terroristes racistes antimusulmans; ne sont que rarement qualifiées de terrorisme. https:… alors que vous appréciez de délicieux #aliments des milliers d'enfants et de #réfugiés souffrent de la #faim et de… @url pour ceux qui douteraient du caractère complotiste et de l'antisionisme délirant d'abdelrahim ali voici un thread… @url bien des migrants vivaient aussi dans l'illÉgalitÉ aux États-unis 35 % des migrants illégaux interceptés au québ… @url pour votre information bande de sale putes de #ede le mot marabout est un mot d'origine arabe et maraboutée est un… @url dans mon équipe à la fac clrmt 20 rebeus/renois sur 600 c chaud mdrrrr saint denis c’est vraiment l’afrique ko @user @user @user personne ne s'attarde sur le fait qu'elles sont plusieurs avoir des batraciens dans l’œsophage ? @user euh bah ça pas longtemps que je te connais et hyper sympa/drôle et j’me tape tjrs des barres avec toi et l’autre attardé @user en tout cas les mariages renois c'est vraiment les meilleurs et... quelques autres clips sur lesquels il faut que je m'attarde un peu plus. x) du coup tu es contre l'avortement ? — non je suis pour @url @user @user ce serais bien d'eviter de parler et d'argumenter autour de chose que tu ne maitri... @url nous les renois tu nous dis juste un truc qu'il nous plait pas va te raconter toutes l'histoire de la france. comment il place sa phase sur « les renois de stamford bridge » pfiou il prend n’importe qui en leuleu dialectique gauchiste intéressante. muriel robin se confie sur son combat contre les violences conjugales devenu une évidence après avoir incarné jacq… @url - expulsion immédiate des migrants coupables de vol viol v… @user j'ai mon premier rendez-vous pour les hormones vendredi prochain @user @user la chaine alimentaire ne se definitif pas que sur la necessite alimentaire mais au... @url Ça m’fume les renois quand ils rigolent ils sont obligés de tapé un 200m sprint @url @user @user non psychophobe c'est quand stigmatise les maladies mentales : dire qu'untel est attard… @url @url @url @url tu dit de la merde putain de gauchiste @url t’es le passe temps des rebeu sale meuf sait que t’aime les arabes — tjrs l’affût du moindre de mes tweets toi… @url menard la gauchiste crache sur le cadavre encore chaud de faurisson. @url par ailleurs donner des leçons de militantisme lgbti quand est dans un parti complotiste qui fricote avec l'ext… @url est plus grand bien-sûr attardé que je suis à oublié des mots x) insupportables les rebeus pr ca @url t'es un peu un gauchiste mais j'aime bien tes tweets et tes retweets — je ne sais pas quoi répondre @url puis le film s’appelle « bohemian rhapsody » mais le film s’attarde très peu sur la conception de ce chef d’œuvre musical @user @user rennes ....ville gauchiste depuis 1977 sans interruption @user @user @user @user @user fais toute tl je suis un vrai gauchiste  asmar mraconte une histoire mparl comme une attarde e c tro ****** quand je vois que la cagnotte pour aider les enfants réfugiés qui dorment deh… rt @user meilleure amie sort avec un enfant attarde qui aime la neige...  @url @user les arabes reprochent mr messiha d'être un peu trop occidental dans son pays o_o si ça c'est pas du… @url @user c est pas le meme groupe de supporter c est toi le mongol carai matheus eh mongol demais paris : les familles de gendarmes virées d’une caserne pour faire place à 150 familles de migrants ! @url est allé à la boutique nespresso ptdr le mec il demandé si achetait du café pr l’hôtel il vu deux renois… @url À relire budget record | Évacuations en raison des pluies | moins de demandes mais plus de réfugiés @url bon apres jsuis content que jai fais ca mtn jle referai plus mais ptdrrrr jsuis quel genre de mongol moi je trouve que yann moix n’a pas dérapé sur la question de la violence policière. biensur que yena et ok faut pa… @url @user mais du coup si t'es vegan mais que tu manges des produits non locaux (cafe bananes noix de... @url confirmation..les migrants s'agglutinent à irun dans des gymnases espagnols en attendant de passer en france par la… @url @user @user @user trop chou merci  @user @user les animaux se tuent entre eux #jdcjdr naza mongol te po na banda ko seka seka kk boyer s… j'adore voir la eternalfreedom si prompt à défendre les palestiniens avec ses copains rebeus et qui se retrouve bie… @url @user @user regarde moi c’est les reubeux d’autres c’est les renois par contre blanc jsp mais ça dépend grave des meufs des villes solidaires #aveclesréfugiés et ça ce sont les entrées légales. les migrants viennent en plus. @url est pas obligé d'être d'accord avec tout ce que dit @user mais «l'antisémitisme ce n'est pas que de l'hos… @url il m'arrive un truc comme ça j'accélère comme un mongol et j'ecrase des gens m'en balek (je pleure race en vrai) @url pourquoi les marocaines et les renois au pays bas elles sont toujours belles? injustice @url pas de droit à l'avortement en belgique? ils sont par contre en avance sur la fin de vie #parjupiter @user je sais pas trop si c'est du troll mais j'espère parce que halloween = satan ça fait vraiment attardé religieux @user oui très bien! mais du coup je ne vois toujours pas la corrélation avec les migrants africains. ^^ @user @user @user ah ben si tu les méprise ça se voit sinon tu te battrais pas contre l’avortement. hier j'ai repris les squats d'apres moi comment vous dire que la mes jambes sont en feu je marche comme une mongol look de coctktail en blanco negro @url lol é de mongol #pas dakar : des militaires français impliqués dans une rixe @url @user @url non ce message n'a rien de subliminale ..... il est dans la continuité du terrorisme intellectuel il faut le métis… @url l' opposition ne dispose d'aucun programme et s'attarde sur des faux débats matar ba ministre @url cousine c’est une blanche et elle sort qu’avec des rebeus/renois + elle change de mecs tous les mois je la compr… @url plus de 60 villes  ont déjà dit oui pour venir en aide aux réfugiés. et la vôtre ? … loon plage : une femme violemment agréssée par un groupe de migrants @url les renois déjà je vous aime trop ensuite jsp c’est vraiment au feeling @url le mec il est noir mais il dit quand même blackos allez mdr. par contre les renois ou les métisses avec les taches de rousseurs ça fascine de fou @url @user tu ete plus que respectueux les autres beaucoup moins ! rt @user @user @user mdrrrr. t'es trop mignon mais ils ont grv la grisaille les renois laaaa tema matuidi @url les #migrants traversent la mer et trouvent les aides sociales ptdrr mais vous êtes attardé c’est pas possible autrement hein @url les #lrem et les gauchiste se défoulent sur @user qui ose parler de l'immigration comme un problème.. l'attardé de moroni jsuis un sale arabe la préférence islamiste de la gauche est motivée par le clientélisme mais également par l’anticléricalisme. antisémite complotiste et anti-trump… qui est l’auteur de la fusillade qui fait onze morts dan... @url l'afrique est sous-développé l'islam n'est pas le terrorisme... je veux dire l'extrémisme et il existe dans toutes les re… @url s'attarde trop sur le côté médical avec les hôtes mouvement végane : mouvement pacifique voir militantiste qui prône un monde où tous les animaux et tous les humain… @url c'est marrant c'est toujours les ménopausées et les hommes contre l'avortement @url pour en finir avec la théorie du complot anti-voitures @user @user @url quand un renois n'a pas le temps avec les imbécillités... @user @user @user il 15% d’arabes israéliens en israel. ils votent et ont des élus : +10% de… @url bravo au réalisateur de #lejouroujaibrulemoncoeur qui inclut le #harcèlement #antisemite dans le film «  #sale #juif ». une réalité. paris première mise en demeure pour des propos d'eric zemmour sur les migrants musulmans @url @url @user est pour ou contre l’avortement mais les renois c'est un délire comment ils dégagent un bail surtout qd ils mettent des durag jvs love petit moment romantique sur une balançoire au bord de la mer @url @user je la connaissais déjà un peu avant mais je m'y étais pas attardé et la vidéo de lol m'a giga hype pfff c'est dingue le nombre de meuf blanche qui se font fourrer par des renois qui font du foot. vazi c'est quoi vo… @url pourquoi les gauchistes sont féministe et lgbt ou pro lgbt mais veulent acceuillir et intégrer l'islam dans toutes… @url je suis un ignorant gauchiste de base niant la réalité historique @user @user ni arabe ni noir ni musulmans ... cela ne peut pas être un acte terroriste mais une fusillade anti… @url @user si vous arrivez m'expliquer ce qu'est l'extreme droite sans les lieux communs et la propagande gauchiste ca m...interesse @user @user c’est déjà mieux que l’islamisation le grand remplacement est inévitable alors autant fai… @url @user @user en même temps ça vient du gars de vegan celui qui tient plusieurs sites et pages antive… @url @user @user @user @user le vrai danger de l'islam c'est la gauche je peux te le garantir nouveau virage à gauche du ps revenu dans l'opposition. après le mandat hollande… faire de l'accueil des migrants… @url il est attardé??? @url @user @user vous êtes justement l'esclave d'un terrorisme intellectuel communisme m'attaqué sous l… @url c’était une sale arabe @url novembre au hourdel le soleil s’attarde les phoques en profitent nous aussi ! @url l'histoire du quebec vaut la peine qu'on s'y attarde. tellement triste qu'on ne l'enseigne presque plus. texte fort @url @user les propos de zemmour sont inadmissibles mais en parle des “sale français” des “je suis plus français que t… @url l'attardé de medelin qui tue le match @user t'imagine pas comme tu viens de rendre mon debut de journee plus beau.. merci ^^ #habs deux buts c'est bien beau mais quand s'attarde à la façon dont kotkaniemi travaillé hier et au contex… @url alors naulleau debarque ? finie la posture de gauchiste intraitable ouvert sur la diversite culturelle et incap @url @user 1 mongol #bresil exemple de #fakenews #gauchiste : ces sont les amerindiens eux-memes qui tuent les nouveaux-nes en les en @url en france les coiffeurs rebeus ils passent du rai... ici ils mettent du kaaris en mode le 93 leur manque c'est beau les réfugiés rohingyas prient dans le camp de réfugiés de kutupalong au bangladesh. @url @user faut passer outre . c'est pareil pour moi je m'y attarde peu ... libye: plus de 100 morts dans le naufrage de deux bateaux de migrants @url journaliste extrapole encore «  voit qu’e.macron ne s’attarde pas sûrement de peur de se faire interpeller sur l… @url @user islam= paix mtn je vais te refaire un speech car j’en avais déjà fait un: si y’a le *terrorisme* en fr… @url aubenas (07) : manifestation en soutien aux migrants ce samedi 22 septembre 2018 à partir de 9h sur la place du mar… @url peut en dire autant pour les renois @url @user ça change pas que qd mm un mongol pour l'ouverture du port de nice à l'aquarius et aux bateaux portant secours aux réfugiés cette violence est incroyable là? @url @user ah ouais ils font cegrin les renois avec ca ici @user laisse tomber c’est les tetes c’est des renois qui font n’importe quoi nouveau - berne : 1500 personnes à une marche contre l'avortement - #suisse #ivg #avortament #bern #ber... @url le gauchiste francais veut resoudre les problemes du monde defaut de resoudre les problemes chez lui ...donneur @url intelligence d'un ado attardé !!! @url @user @user oui souvenons nous des massacres des camps de réfugiés de sabra et chatila commis par les phal… @url @user @user oui il n ya pas de grd remplacement ni de racisme anti blanc ! c tjr arabe noir jeune en s… @url putain d'attardé ptdrrrr le sale arabe @url @user @user mec si il gagne pas cobtre liverpool ils st eliminate donc fais pas l’attardé ici attardé du cœur et le président iranien lors de son discours annuel à l’onu va se plaindre du danger du terrorisme au lieu d’êt… @url dans toutes les larmes s'attarde un espoir . plus bas tu dis que tu ne pourrais pas sortir avec autre qu’une rebeu et la d’un coup les indiennes et les renois ç… @url et aller une putain de laryngite comme aime à tousser comme une grosse debile et plus avoir de voix et être sous antibio excellente démonstration de @user mais ce monsieur joffrin vaut-il la peine que l'on s'attarde sur ses torc… @url @user accueillir 58 migrants c'est sans fin ça appellera la venue d'autres migrants et vous le savez très… @url quand demande un gauchiste d'argumenter  @url mur anti-migrants au sahara : l'idée renversante de trump @url chez bcp trop d'arabes aussi et ils sont tellement occasionnellement ds mes cercles que la questi… @user @user des petits gestes tout petits gestes Ça l’air sympa de pas être une sale arabe @url peut-être que ceux qui émettent les oukases non violents sont relativement protégés de la violence. mais il semble… @url de toutes façons ça ne s'arretera jamais. chacun cherche le meilleur pour lui et il aura toujours des migrants.… @url putain de filous de renois qui conspirent à se faire insulter sur la place publique @user @user merci pour cet échange. vous n'aimez pas les arabes dite le clairement. bonne journée. t’as vla les potes renois pour un rebeu — mdr ça veut dire quoi ça est tous pareil gros @url mais les renois américain ils ont autant de liens avec l'afrique que les blancs américains en ont avec l'europe. j'ai un seul regret mais je m'attarde pas dessus. faut avancer @url dieu ne s’attarde jamais à combler un besoin extérieur. marine le pen au pouvoir pour fermer les frontières expulser tous les clandestins les migrants retirer les papiers… @url @user voilà ce qui arrive quand tu la propagande gauchiste tiermondiste et misérabiliste de ton côté tu… @url @user @user @user je te parle par rapport à au protestantism tu dit que nous mélangions du polythéism… @url @user @user @user c'est pas les migrants qui viennent piquer le travail des français c'est les t… @url @user @user le chercheur qui diriger cette etude que tu n'as sans doute pas lu precise bie... @url @user il faut croire que ces ong sont soutenues par le gouvernement qui favorise l'immigration massive et l'islamisation du pays @user @user je crains que ce soit sa peur d'être étiqueté facho. pourtant il est déjà considér… @url @user un jour t’avais dis t’aimes bien les renois sur twitter je m’en rapl très bien et puis même en vrai tu… @url @user @user @user c'est dingue ce terrorisme intellectuel! vous avez le même prénom certes mais… @url @user @user @user @user tu crois vraiment y’a que 2 renois à daesh ? boko haram ?… @url @user oui c est vrai... les lyonnais ne sont pas racistes ils aiment bien les arabes regardez...@url @user @user @user sauf qu'aux heures les plus sombres de notre histoire les juifs ne cachaie... @url @user @user @user @user @user et la société complète cautionne la violence de l'au… @url @user @user l'homme est faible physiquement par rapport l'elephant mais infiniment plus intelligent. @user j’avais bien fait de l’unfollow quand je voyais ces tweets bizarres sur les arabes mais à ce moment là… @url @user j’aimerais que l’on s’attarde sur ta tête qui est juste sublime @user est quand même sur l'équivalent les boulangers vous expliquent pourquoi ils sont contre l'avortement… @url @user @user attali qui compare les juifs aux migrants. c'est une légitimisation de la violence contre les anti-immigration. @user la violence mdrr va falloir que tu censure tes tweets @user les gens ont grandi s'attarde plus sur ces trivialites de changement d'heure les vrais les purs sont... @url @user @user non ! n'en veut pas de ces migrants économiques ! trop c'est trop . il est plus urgent d… @url @user @user yes je le suis mais j’ai l’impression les noir d’afrique c’est que ceux de l’est ici @user @user qu'est-ce qu'il ne faut pas lire franchement @user @user d'ailleurs. si tu tiens vraiment la condition de vie des gens et si t'as de la p... @url @user @user @user @user déjà islam= paix le terrorisme c les feuge qu’il utilise… @url @user @user que feraient les politologues juifs s'il n'y avait pas eu les nazis? @user @user @user @user @user bonjour je suis un gauchiste bobo et je reveille a... @url @user la pauvreté n'est le collateral de la violence pas plus que la richesse. il faut chercher ailleurs @user @user vs n'comprenez ps si tu n'as ps envie d'en manger tant mieux pr toi ms laisse ls... @url @user lui c’est un sale arabe .. @user @user parler des médecins africains travaillant en france il était juste de signaler que parmi tous… @url @user les manifestants d’ #idleb et d’ #alep sont le symbole du courage de la résistance et de la résili… @url @user j'aime pas la violence @user @user il des millions de morts de la famine chaque annee mais tu veux laisser pourri... @url @user @user euh je ne suis vraiment pas attardé sur ‘’ belle fille’’ hein je demande si tu dé… @url @user je suis pas assez attardé sur son album j’irai réécouter : [@user @user @user @user hossam mdrrr allez viens par ici vendeur de chameau renie nous pas enfin t’es un arabe frero @user @user espérons néanmoinsil se ferait violence en prenant son argent qu'il pouvait réclamer par… @url @user @user @user toujours les mêmes poncifs 1) la non violence est une position moral… @url @user @user @user suppression partiele de l isf (comme disait sarkozy-fillon un impot gauchiste st... @url @user il va emmener quelques migrants avec lui ? @user j'ai toujours été contre l'avortement c'est une question de conscience pour moi la vie c'est sacré ri… @url @user mais encore ? un jour il faudra faire une étude sociologique sur le tropisme gauchiste / socialiste… @url @user @user @user @user @user fort loin d'etre gauchiste je continuerai ne vous en de… @url @user en fait quand s'attarde un peu sur les tweets de ce compte... @user @user @user ce n'est qu'au cameroun qu'on laisse les vraies choses et s'attarde sur l'o… @url @user merci vous aimer trop courir quand vous rigolez les renois @url @user @user j’en ai prix au bled mais tu peut le trouver au marcher ou bien dans des épiceries arabe/renois @user @user c'est bien connu @user @user mdrrrr. t'es trop mignon @user @user @user les violenté.e.s aimeraient donc la violence ? @user @user c’est jouer acec les mots. l’histoire coloniale française fait de nous des arabes e… @url @user surtout les noirs et les arabes au pire ils auront leur entretien mais qd le mec verra leur tête à ce m… @url @user je ne comprends pas c'est horrible. un si gentil chien. j'en ai marre de la violence humaine. devrait le tuer le gas. @user @user « dénier » à ces migrants « le bénéfice du droit d’asile au motif qu’ils seraient… @url @user et les rebeus haineux des renois ça existe que tu le veuilles ou pas. jv pas nier ça pr toi y’a deux renois elle sont venu s’asseoir juste à côté de moi alors que le train est vide wesh c quoi lprobleme @user @user tiens encore cette théorie du complot antisémite... @user les rebeus soins comme nous @user @user est au niveau de l...anchois au niveau de la chaine alimentaire. ridiculise toi encore plus @user wow j'sais pas comment tu fais mais tu fais accelerer mon coeur distance arrete ca mec jme sens toute timide la ;v; @user @user etre au sommet de la chaine alimentaire = torturer des animaux pour mon plaisir ? @user en fait en tant qu'agent de securite la loi nous interdit de palper sur une personne du meme sexe (... @url @user @user commando marine gauchiste c'est triste @user mdrrrrrr bah ouais m’a dit vous êtes énormément en licence street mais asquip y’a priorité aux rebeu et… @url @user une chrétienne ne vaut pas qu’on s’y attarde pour certains... @user ptdrr ta tous les renois de châtelet ils vont arriver en ball @user @user @user n'oublions pas que beaucoup de juifs se sont réfugiés au maghreb à cette… @url @user @user quel dommage.malgré que @user juin 2017 violence conjugales auto déclarés mentionne q… @url @user @user et non il n’y pas plus de crimes commis par des migrants que des français blancs. seulement moins… @url @user @user t'aime bien le gout de la viande un carnivore c'est tout. wesh la il parle du fait qu’il est féministe et il parle des droits de la femme c’est super mais pourquoi t’as com… @url @user la propagande gauchiste americaine n'a aucune limite comme en france.n#bfmtv y’a vieux un mec à la gare qui m’a insulter de « sale arabe » sauf que je ne suis pas arabe du tout @user quelle manoeuvre ! bon j'imaginais ça avec un peu plus de violence lol ça va c'est soft @user @user ah le gauchiste... l'amour du débat l'honnêteté intellectuelle! :) @url @user @user @user @user @user tombez les œillères! la violence touche aussi les père… @url @user @user @user non mais le gauchiste est très long dans la compromette... @user @user je l'ai dis et repete force je deviens mechant ouais. ahahahahahahahahaha priver de lib... @url @user @user merci @user @user ptn cette violence de la question mdr @user oui j'suis gentille moi je m'attarde pas sur le physique @user @user @user personne qu'elle qu'il soit ne doit imposer son regime alimentair... @url @user jpense il s’y est pas attardé bc ça aurait pas intéressé grand monde (jcoco très peu de gens qui se pose… @url @user ptdrrr merci gauchiste pref @user @user l éducation gauchiste de l enfant roi ... @user @user @user merci de fr passer les arabes pr des haineux @user @user le baath c’etait un parti pour tous les arabes avec une variante dans chaque pays (baath irakien sous saddam etc) @user moi hamdoullah je vis dans un pays africain donc mon prenom va pas deranger mais les gens qui ont du mal a… @url @user @user ben toi aussi te dira de te reconvertir quand pour raison x ou un groupe de d... @url @user @user yen ils ont du mal capter hein c'est fou @user @user vous avez si mal ? si il préfère les renois c'est ses goûts pourquoi direct mal parler ? @user @user non non. complotiste anti-etat-qui-raquette-les-automobilistes-qui-bossent-eux @user @user peut-être que certaines personne ne supportes plus que l'on s'attarde sur se genre de… @url @user @user @user techniquement est au sommet de notre chaine alimentaire puisqu... @url @user @user @user peut aussi dire qu'on est totalement menacé de submersion invasion is… @url @user s’est acharné sur les automobilistes (et donc sur les constructeurs) avec une rare violence. et e… @url @user @user @user @user j’ai absolument pas lu ce que t’a dis et jvais perdre du temps pour un d… @url @user @user @user je m'attarde cependant quelque peu : et si vous laissiez les gens se faire leur pro… @url @user @user @user le drapeau israélien indique donc votre attachement au foyer juif et par là… @url @user non les parents n'étaient pas rebeus... @user y’a des rebeus hein ? : [@user @user le rapeur en cause qui le fils d'un migrant exactement les même droits il même bén… @url @user @user je trouve ça dommage après selon moi les renois pas arrêter de le dire c’est l… @url violence domestique et femmes spirituelles: la violence domestique n’est généralement pas… @url @user @user les végans sont-ils contre l'avortement ? @user @user exterminer pour ne pas les faire souffrir. ca rappelle la deuxieme guerre mondiale ca @user @user @user @user whallah wallah tiens des rebeus de citée wesh sur le coran ... @user @user @user Ça n'empêche pas de répondre proportionnellement aux violence qui nous sont faites. @user mdr personnellement je ne m’attarde pas next directe. @user @user @user toutes les femmes catholiques sont contre l'avortement. voilà pourquoi le problème des noirs et des arabes en france il finira jamais est trop diviser wesh des que y’a… @url @user la logique des religieux : contre le droit à l’avortement mais contre la pma : « on veut que les enfan… @url @user @user y'a que les capitaines arabes qui ont voté pour salah @user salutations est-ce qu'un vegan est contre l'avortement ? logiquement oui vu qu'on tue un être vivant non ? @user @user @user @user je suis une gauchiste libertaire et catholique pas tres orthodox... @url @user j’avais vu ça dans une de tes vidéos déjà mais j’m’y était pas attardé c’est futbin de pes en fait mais en mieux :p @user mêler islam et violence de manière systémique voilà le but... qu ils utilisent le terme terrorisme... c… @url @user je vous le demande faites en sortes de bloquer l'argent volé aux africains qui est caché dans vos b… @url @user @user @user un #gauchiste « qui #pense » : il n'a que la réflexion viscérale. @user @user @user mais c est l hiver putain!fait froid! @user j...ai bien une petite idee mais va traiter de gauchiste... @user une cargaison de migrants de l aquarius ou autre payee' 14 000 euros minimum et vous macron soros v… @url @user @user tu tiens ta cause perdue d'avance @user @user @user il n'y rien comprendre un gauchiste est un gauchiste. il peut raconter tout e... @url @user @user vous croyez que macron aime les arabes? mdr @user les gens se sentent tous visés ! c’est une secte alors ? comme les blacks les arabes les instits... @user @user donc en fait pour proteger les especes animales vous les condamnez l'extinction... @url y'a plus de renois sur le terrain que dans tous les pays d'afrique subsaharienne réunis #olom @user @user @user ne pas voter c'est donner une voix au lr macron au gauchiste etc @user @user je suis gauchiste et je reconnais pas du tout dans son nous les gauchistesnalle... @url @user @user mais de quelle transition tu parle ? que tout le monde devienne vegan ? pourquoi v... @url @user je precise tout de suite que je ne suis pas un islamo-gauchiste et que je ne nie pas l'antisemitisme... @url @user les juifs americains sont pour trump ils sont consternés que les médias taisent la haine contre l… @url @user remarque la photo elle peut donner un putain de scénario de film : 4 renois et leur beurette à chicha @user @user ils veulent ça des bons petits rebeus de maison @user @user quand j'etais gamin mon meilleur pote était juif. je ne l'ai su que lorsqu'un maghrébin l'a… @url @user @user @user soutenir la fachosphere qui plus est complotiste drôle de conception du libéralisme. @user nous sommes des arabes au maghreb el arabi même si la propagande occidentale de malheur bas son plein !… @url @user @user @user un gauchiste ... donc un genie @user @user @user @user c'est ça le bif avec les renoistu dis la vérité c'est un problème @user @user @user @user lr est un parti gauchiste. la rencontre entre laurent wauquiez et angela merkel le prouve. @user le tweet comme l'article ne s'attardent pas beaucoup sur ce que ça pourrait changer d'avoir un européen… @url @user @user @user tous ceux qui disent que les musulmans et l'islam c'est le terrorisme so… @url @user @user un gauchiste qui préfère essayer de récupérer les dernières voies des socialistes en fe… @url @user @user @user merci de confirmer mes dires @user @user @user une belle gauchiste 100% pur sang nathalie appéré! @user @user du coup pourquoi l'evolution fait qu'on des canines si est destine bouffer... @url @user @user tout comme le terrorisme car l'islam est une religion qui prône la paix. le prophète sallah… @url @user une bonne nouvelle pour les réfugiés et pour les droits humains @user finalement je repasserais...quelle violence ce matin. tu n’as pas eu ton café ? @url @user @user @user l'islam interdit formellement le terrorisme. ceux qui connaissent l'histoi… @url @user tous mes profs utilisent le bon prénom et j'ai même changé de prénom au secrétariat de la fac @user #stop aux complots #stop aux guerres des intÉrÊts economiques &amp; politiques #stop aux machiavÉlisme.… @url @user @user @user nonsense! @user @user comment vous pouvez oser écrire ces choses la ? donc en gros les arabes en demandent tr… @url @user pcq encore une fois vise les renois non ça n’a pas lieu d’être c’est tt peut toi tu te mets dedans au… @url @user ils le prennent pour un attardé ou quoi ptdr @user trop negro nous aussi n'est content de retrouver. merci le parolier @user @user @user @user ah d’accord donc si t’es pas renoi ou rebeu tu ne peux pas donner… @url @user @user renz gangsta le plus beau de tt les rebeus @user je n'y avais pas pensé mais il peu à nantes des maghrébins ont affronté des #migrants africains. @user merci theo aka brainless connu sous le pseudonyme du plus beau de tous les rebeus .. @user @user @user et dites aussi vive le front national pendant que vous etes ! c'est une... @url @user @user @user faux. les gens non-exposés à la violence prêche la non-violence puisqu'ils… @url @user j’ai été sur place chez mon opérateur ils m’ont y’a rien à faire à part porter plainte pr harcèlement ou changer de numéro vérité #islam #musulmans #mosquee #censure #sos #europe #libertéexpression #ong #gauchiste… @url @user non je ne pense pas. Ça se voit dans beaucoup d'équipes. même lui ne s'est pas attardé sur la cél… @url @user enfin je dis ca c'est plutot de notoriété publique que je suis un turbo-gauchiste. mais même là ca re… @url voilà ce qui se passe aujourd'hui dans nos forêts françaises la violence à l'état pur ! les bou… @user @user comme ça tu pourra dire c cause des renois allez bsx @user seul les vrais hommes passe au dessus du fan service et s'attarde plutôt sur l'oeuvre et le message… @url @user @user @user fin du game je m’attarde pas avec des gens qui parle sans savoir merci au r… @url @user @user @user alors que dans les pays occidentaux est tres friand de viande... @url @user @user @user les féministes extrémistes sont cancer en effet. mais la plupart des féministes de ba… @url @user merci @user mais bordel je suis même pas contre l'avortement je respecte juste le droit de certains à pas vouloir l… @url : [@user @user @user quand vous accusez bts d’harcèlement s*xuellec pas grave mais quand ramène l… @url @user @user lors de ces sommets rappeler que les africains et les indonésiens ne doivent plus ex… @url @user nouveau nom twitter ! mais dit adieu au beaux rebeus :( @user @user ce n'est pas une théorie du complot. c'est peut-être récupéré par les fachos mais l'éc… @url @user mddrrrrr trop de violence @user @user j’ai que ce screen sinon elle taillé les arabes plein de fois y’a rien d’ironique là dedans @user @user j'en parlais avec mon fils en 3eme public ..il dit c'est surtout entre noirs et arabes… @url @user ouais clairement et surtout que ca sera que scientifique @user mais meme rebeus oran je chiale meuf @user vous utilisez un média (twitter) dont la violence est coutumière. quittez le réseau et vous serez tranq… @url @user ils te pensent seulement gauchiste et féministes? les pauvres @user @user @user ptn je ne vais même pas lire le thread gauchiste je sens que je vais psychoser à mort @user et le vp est au ce depuis 1930 ; « ns avons commis la guerre » ; mais ne s’attarde pastrop sur le rôl… @url @user @user je ne suis pas gauchiste. plutot droite... mais ca n'a pas de rapport avec ca. ce que je dis... @url @user hsksjsh ouais pourquoi pas mais bon les renois ils sont 3ème dans mon classement @user ils ont fuit l’espagne ils se sont réfugiés en algérie mais quand les français sont arrivés ils so… @url @user ne t'attarde pas là dessus! @user quand il n'est plus possible d'établir des liens de confiance avec les institutions la violence n'est p… @url @user quand vous prendrez vos sources ailleurs que sur un site complotiste et antisémite et que vous cessere… @url @user @user je suis actuellement en amerique je suis en high school et depuis le debut de l...an... @url @user pourquoi tant de migrants africains en europe alors si est tous des vilains racistes nous autres… @url\n"
     ]
    },
    {
     "data": {
      "text/plain": [
       "[('@user', 970),\n",
       " ('@url', 475),\n",
       " ('gauchiste', 93),\n",
       " ('renois', 79),\n",
       " ('attarde', 66),\n",
       " ('migrants', 62),\n",
       " ('violence', 60),\n",
       " ('contre', 53),\n",
       " ('arabes', 43),\n",
       " ('attardé', 42)]"
      ]
     },
     "execution_count": 27,
     "metadata": {},
     "output_type": "execute_result"
    }
   ],
   "source": [
    "freqs = slice_dataframe_and_compute_word_frequency(df, ['sentiment'], ['normal'], 'tweet', 'fr_core_news_sm')\n",
    "freqs.most_common()[:10]"
   ]
  },
  {
   "cell_type": "code",
   "execution_count": null,
   "id": "76ab2ad4",
   "metadata": {},
   "outputs": [],
   "source": []
  }
 ],
 "metadata": {
  "kernelspec": {
   "display_name": "dsn",
   "language": "python",
   "name": "dsn"
  },
  "language_info": {
   "codemirror_mode": {
    "name": "ipython",
    "version": 3
   },
   "file_extension": ".py",
   "mimetype": "text/x-python",
   "name": "python",
   "nbconvert_exporter": "python",
   "pygments_lexer": "ipython3",
   "version": "3.8.12"
  }
 },
 "nbformat": 4,
 "nbformat_minor": 5
}
